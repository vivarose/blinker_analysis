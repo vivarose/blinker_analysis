{
 "cells": [
  {
   "cell_type": "code",
   "execution_count": 1,
   "metadata": {
    "scrolled": false
   },
   "outputs": [
    {
     "name": "stdout",
     "output_type": "stream",
     "text": [
      "Populating the interactive namespace from numpy and matplotlib\n",
      "1.10.4\n",
      "0.8.0\n",
      "0.20.3\n",
      "2.1.0\n"
     ]
    }
   ],
   "source": [
    "# -*- coding: utf-8 -*-\n",
    "\"\"\"\n",
    "2018-06-28,29\n",
    "\n",
    "Blinker analysis: PL intensity versus laser power\n",
    "PL intensity versus laser power, QE 4-22-2018.11,00am\n",
    "\n",
    "@author: Viva Horowitz\n",
    "\"\"\"\n",
    "\n",
    "import numpy as np\n",
    "import matplotlib as mpl\n",
    "import matplotlib.pyplot as plt\n",
    "import pandas as pd\n",
    "import os\n",
    "import datetime\n",
    "import seaborn as sns\n",
    "import numpy as np\n",
    "import sys\n",
    "sys.path.append(r'C:\\Users\\Viva\\Documents')\n",
    "sys.path.append(r'C:\\Users\\Viva\\Documents\\detect_peaks.py')\n",
    "import detect_peaks\n",
    "## http://nbviewer.jupyter.org/github/demotu/BMC/blob/master/notebooks/DetectPeaks.ipynb\n",
    "from detect_peaks import detect_peaks\n",
    "\n",
    "\n",
    "sns.set(style='ticks')\n",
    "sns.set_context('poster')\n",
    "\n",
    "%pylab inline\n",
    "from matplotlib.mlab import frange\n",
    "\n",
    "# ** set for each dataset\n",
    "datadate = '2018-06-01'\n",
    "datafolder = r'O:\\User\\Viva\\data\\2018-06-01_blinking-statistics\\4-22-2018.11,00am'\n",
    "analysisfolder = r'C:\\Users\\Viva\\Documents\\analysis\\blinker_analysis\\power_dependence,QE4-22-2018.11,00am'\n",
    "filenames = ['4-22-2018.11,00am, 03, ND2,4.txt',\n",
    "             '4-22-2018.11,00am, 04, ND2,3.txt',\n",
    "             '4-22-2018.11,00am, 05, ND2,2.txt',\n",
    "             '4-22-2018.11,00am, 06, ND2,0.txt',\n",
    "             '4-22-2018.11,00am, 07, ND1,6.txt',\n",
    "             '4-22-2018.11,00am, 08, ND1,5.txt',\n",
    "             '4-22-2018.11,00am, 11, ND1,4.txt',\n",
    "             '4-22-2018.11,00am, 12, ND1,3.txt',\n",
    "             '4-22-2018.11,00am, 13, ND1,2.txt',\n",
    "             '4-22-2018.11,00am, 14, ND1,0.txt']   \n",
    "dataname = 'QE 4-22-2018.11,00am'\n",
    "NDlist = [2.4, 2.3, 2.2, 2.0, 1.6, 1.5, 1.4, 1.3, 1.2, 1.0]\n",
    "\n",
    "print(np.__version__)\n",
    "print(sns.__version__)\n",
    "print(pd.__version__)\n",
    "print(mpl.__version__)"
   ]
  },
  {
   "cell_type": "code",
   "execution_count": 2,
   "metadata": {},
   "outputs": [],
   "source": [
    "os.chdir(r'O:\\User\\Viva')\n",
    "filterwheel = pd.read_csv('Josh_filter_wheel.csv')"
   ]
  },
  {
   "cell_type": "code",
   "execution_count": 3,
   "metadata": {},
   "outputs": [
    {
     "data": {
      "text/html": [
       "<div>\n",
       "<style>\n",
       "    .dataframe thead tr:only-child th {\n",
       "        text-align: right;\n",
       "    }\n",
       "\n",
       "    .dataframe thead th {\n",
       "        text-align: left;\n",
       "    }\n",
       "\n",
       "    .dataframe tbody tr th {\n",
       "        vertical-align: top;\n",
       "    }\n",
       "</style>\n",
       "<table border=\"1\" class=\"dataframe\">\n",
       "  <thead>\n",
       "    <tr style=\"text-align: right;\">\n",
       "      <th></th>\n",
       "      <th>ND</th>\n",
       "      <th>Power (W)</th>\n",
       "    </tr>\n",
       "  </thead>\n",
       "  <tbody>\n",
       "    <tr>\n",
       "      <th>0</th>\n",
       "      <td>1.0</td>\n",
       "      <td>0.000995</td>\n",
       "    </tr>\n",
       "  </tbody>\n",
       "</table>\n",
       "</div>"
      ],
      "text/plain": [
       "    ND  Power (W)\n",
       "0  1.0   0.000995"
      ]
     },
     "execution_count": 3,
     "metadata": {},
     "output_type": "execute_result"
    }
   ],
   "source": [
    "# Does not display all digits but they are stored.\n",
    "filterwheel.head(1)"
   ]
  },
  {
   "cell_type": "code",
   "execution_count": 4,
   "metadata": {},
   "outputs": [],
   "source": [
    "## https://stackoverflow.com/questions/32765333/how-do-i-replicate-this-matlab-function-in-numpy/32765547#32765547\n",
    "def histc(X, bins):\n",
    "    map_to_bins = np.digitize(X,bins)\n",
    "    r = np.zeros(bins.shape)\n",
    "    for i in map_to_bins:\n",
    "        r[i-1] += 1\n",
    "    return [r, map_to_bins]\n",
    "\n",
    "def manualnorm(histdata, binwidth):\n",
    "    return (1/(histdata.sum()*binwidth))*histdata\n",
    "\n",
    "def arangebylength(start, step, length):\n",
    "    return np.arange(start = start, stop=start+step*(length-.5), step = step )\n",
    "\n",
    "# rebin: combine two rows into one.\n",
    "def rebindata(data, colname, timecolname):\n",
    "    first = 1 # this is a value that indicates if we're on the first (=1) or the second (-1) of a pair of two bins\n",
    "    rebinvals = []\n",
    "\n",
    "    print data.tail()\n",
    "    for value in data[colname]:\n",
    "        #print 'value: ' + str(value)\n",
    "        if first == 1:\n",
    "            prevval = value\n",
    "        else:\n",
    "            # calculate average of the two bins\n",
    "            combined = (prevval + value) /2.0 \n",
    "            rebinvals.append(combined)\n",
    "            del prevval\n",
    "        first = -1 * first\n",
    "         \n",
    "    timesetting = data[timecolname][1]-data[timecolname][0]\n",
    "    rebintimes = arangebylength(start =0, step = timesetting*2, length = len(rebinvals) )\n",
    "    datadict = {timecolname: rebintimes, colname: rebinvals}\n",
    "    rebinneddata = pd.DataFrame( data = datadict)\n",
    "    return rebinneddata"
   ]
  },
  {
   "cell_type": "code",
   "execution_count": 5,
   "metadata": {
    "scrolled": false
   },
   "outputs": [
    {
     "name": "stdout",
     "output_type": "stream",
     "text": [
      "   Time (s) 2.4   2.4\n",
      "0         0.008  5.75\n",
      "1         0.012  6.25\n",
      "2         0.016  5.50\n",
      "3         0.020  5.75\n",
      "4         0.024  6.25\n"
     ]
    },
    {
     "ename": "NameError",
     "evalue": "name 'timecolname' is not defined",
     "output_type": "error",
     "traceback": [
      "\u001b[1;31m---------------------------------------------------------------------------\u001b[0m",
      "\u001b[1;31mNameError\u001b[0m                                 Traceback (most recent call last)",
      "\u001b[1;32m<ipython-input-5-4a7fd9cf663f>\u001b[0m in \u001b[0;36m<module>\u001b[1;34m()\u001b[0m\n\u001b[0;32m     27\u001b[0m         \u001b[0mrebincount\u001b[0m \u001b[1;33m=\u001b[0m \u001b[0mrebincount\u001b[0m \u001b[1;33m+\u001b[0m \u001b[1;36m1\u001b[0m\u001b[1;33m\u001b[0m\u001b[0m\n\u001b[0;32m     28\u001b[0m         \u001b[1;32mprint\u001b[0m\u001b[1;33m(\u001b[0m\u001b[0mrebincount\u001b[0m\u001b[1;33m)\u001b[0m\u001b[1;33m\u001b[0m\u001b[0m\n\u001b[1;32m---> 29\u001b[1;33m     \u001b[0mtimesettings\u001b[0m\u001b[1;33m[\u001b[0m\u001b[0mi\u001b[0m\u001b[1;33m]\u001b[0m \u001b[1;33m=\u001b[0m \u001b[0mdata\u001b[0m\u001b[1;33m[\u001b[0m\u001b[0mtimecolname\u001b[0m\u001b[1;33m]\u001b[0m\u001b[1;33m[\u001b[0m\u001b[1;36m1\u001b[0m\u001b[1;33m]\u001b[0m\u001b[1;33m-\u001b[0m\u001b[0mdata\u001b[0m\u001b[1;33m[\u001b[0m\u001b[0mtimecolname\u001b[0m\u001b[1;33m]\u001b[0m\u001b[1;33m[\u001b[0m\u001b[1;36m0\u001b[0m\u001b[1;33m]\u001b[0m\u001b[1;33m\u001b[0m\u001b[0m\n\u001b[0m\u001b[0;32m     30\u001b[0m     \u001b[0mfps\u001b[0m\u001b[1;33m[\u001b[0m\u001b[0mi\u001b[0m\u001b[1;33m]\u001b[0m \u001b[1;33m=\u001b[0m \u001b[1;36m1\u001b[0m\u001b[1;33m/\u001b[0m\u001b[0mtimesettings\u001b[0m\u001b[1;33m[\u001b[0m\u001b[0mi\u001b[0m\u001b[1;33m]\u001b[0m\u001b[1;33m\u001b[0m\u001b[0m\n\u001b[0;32m     31\u001b[0m     \u001b[1;32mprint\u001b[0m\u001b[1;33m(\u001b[0m\u001b[1;34m'Effective collection rate: '\u001b[0m \u001b[1;33m+\u001b[0m \u001b[0mstr\u001b[0m\u001b[1;33m(\u001b[0m\u001b[0mfps\u001b[0m\u001b[1;33m[\u001b[0m\u001b[0mi\u001b[0m\u001b[1;33m]\u001b[0m\u001b[1;33m)\u001b[0m \u001b[1;33m+\u001b[0m \u001b[1;34m' Hz'\u001b[0m\u001b[1;33m)\u001b[0m\u001b[1;33m\u001b[0m\u001b[0m\n",
      "\u001b[1;31mNameError\u001b[0m: name 'timecolname' is not defined"
     ]
    }
   ],
   "source": [
    "os.chdir(datafolder)\n",
    "\n",
    "tname = 'Time (s)'\n",
    "PLname = 'PL Intensity (kCts/s)'\n",
    "\n",
    "rebins_to_do = 0 # number of times to rebin. **\n",
    "newfilenames = copy(filenames)\n",
    "timesettings = copy(NDlist)\n",
    "fps= zeros_like(NDlist)\n",
    "\n",
    "for i in range(len(filenames)):\n",
    "    data = pd.read_csv(filenames[i],\n",
    "                       skiprows=1,\n",
    "                       header=None,\n",
    "                       sep='\\t',\n",
    "                       names=[tname + ' ' + str(NDlist[i]),str(NDlist[i])],\n",
    "                       usecols=[0,1])\n",
    "    #data = data.set_index(tname)\n",
    "    print(data.head())\n",
    "    rebincount = 0\n",
    "    \n",
    "    # *** run this an appropriate number of times, can skip if not rebinning\n",
    "    origfilenames = filenames\n",
    "    timecolname = tname + ' ' + str(NDlist[i])\n",
    "    for j in range(rebins_to_do):\n",
    "        data = rebindata(data, colname=str(NDlist[i]), timecolname=timecolname)\n",
    "        rebincount = rebincount + 1\n",
    "    timesettings[i] = data[timecolname][1]-data[timecolname][0]\n",
    "    fps[i] = 1/timesettings[i]\n",
    "    print('Effective collection rate: ' + str(fps[i]) + ' Hz')\n",
    "    print('Time bin size: ' + str(timesettings[i]) + ' sec')\n",
    "    newfilenames[i] = origfilenames[i] + ', ' + str(fps[i]) + ' Hz'\n",
    "\n",
    "    #plt.scatter(x=data['Time (s) ' + str(NDlist[i])], y=str(NDlist[i]),linewidth=0.3)\n",
    "    data[str(NDlist[i])].plot(linewidth=0.3)\n",
    "    plt.ylabel('photoluminescence (kCts/s)')\n",
    "    #plt.xlabel('Time(s)')\n",
    "    plt.title(newfilenames[i])\n",
    "    plt.show()\n",
    "    \n",
    "    if i > 0:\n",
    "        alldata = pd.concat([alldata,data], axis=1)\n",
    "    else:\n",
    "        alldata = data        \n",
    " \n",
    "dataname = dataname + ',' + str(rebins_to_do) + ' rebins'\n",
    "#filename = filename.replace('\\\\','-')\n",
    "#origfilename = filename\n",
    "os.chdir(analysisfolder)\n",
    "today = datetime.date.isoformat(datetime.date.today())\n",
    "if not os.path.exists('taken-' + datadate):\n",
    "    os.makedirs('taken-' + datadate)\n",
    "os.chdir('taken-' + datadate)\n",
    "\n",
    "print('today: '+today)\n",
    "os.getcwd()"
   ]
  },
  {
   "cell_type": "code",
   "execution_count": null,
   "metadata": {},
   "outputs": [],
   "source": [
    "alldata.head()"
   ]
  },
  {
   "cell_type": "code",
   "execution_count": null,
   "metadata": {},
   "outputs": [],
   "source": [
    "alldata.tail()"
   ]
  },
  {
   "cell_type": "code",
   "execution_count": null,
   "metadata": {},
   "outputs": [],
   "source": [
    "strNDlist = []\n",
    "for ND in NDlist:\n",
    "    strNDlist.append(str(ND))\n",
    "data = alldata[strNDlist]\n",
    "data.head()"
   ]
  },
  {
   "cell_type": "code",
   "execution_count": null,
   "metadata": {},
   "outputs": [],
   "source": [
    "strNDlist"
   ]
  },
  {
   "cell_type": "code",
   "execution_count": null,
   "metadata": {},
   "outputs": [],
   "source": [
    "print max(data.max())\n",
    "print min(data.min())"
   ]
  },
  {
   "cell_type": "code",
   "execution_count": null,
   "metadata": {},
   "outputs": [],
   "source": [
    "stepsize = 1\n",
    "# adding a stepsize to the max is a workaround to a bug\n",
    "binsequence= frange(min(data.min()),max(data.max())+stepsize,stepsize)\n",
    "\n",
    "try:\n",
    "    del histdata\n",
    "except NameError:\n",
    "    pass\n",
    "#histdata=pd.DataFrame(columns=['ND', PLname, \"Occurrences\"])\n",
    "\n",
    "histdict = []\n",
    "for i in range(len(strNDlist)):\n",
    "    plt.hist(data[strNDlist[i]], bins=binsequence,  histtype='step', linewidth=1, label=strNDlist[i], normed=True)\n",
    "    newhistdata, toss = histc(data[strNDlist[i]], bins=np.asarray(binsequence))\n",
    "    NDlisttemp = [NDlist[i]] * len(binsequence)\n",
    "    ## Norm the newhistdata\n",
    "    #   adding a stepsize to the max was a workaround to a bug\n",
    "    #   now we remove that last bin, which should have been empty (but it's so buggy it wasn't empty)\n",
    "    newhistdatanormed = manualnorm(newhistdata[:-1], stepsize)\n",
    "    \n",
    "    try:\n",
    "        # append histogram to dataframe histdata\n",
    "\n",
    "        histdata = histdata.append(pd.DataFrame(transpose([NDlisttemp[:-1], binsequence[:-1],newhistdatanormed.tolist()])))\n",
    "#        print \"appended\"\n",
    "    except NameError:\n",
    "        histdata = pd.DataFrame(transpose([NDlisttemp[:-1], binsequence[:-1],newhistdatanormed.tolist()]))\n",
    "        print \"histdata initialized\"\n",
    "histdata = histdata.rename(index=str, columns={0: 'ND', 1: PLname, 2:\"Probability\"})           \n",
    "tabledata = histdata.pivot(\"ND\", PLname, \"Probability\")\n",
    "\n",
    "# In terms of laser intensity instead of optical density\n",
    "powertabledata = tabledata.join(filterwheel.set_index('ND')).set_index('Power (W)')\n",
    "\n",
    "#sns.distplot(data[strNDlist[9]], bins=numbins, kde=True, rug=False, hist_kws={\"histtype\": \"step\", \"linewidth\": 1, \"alpha\": 1, \"color\": \"k\"});\n",
    "plt.xlabel('PL (kCts/s)')\n",
    "plt.ylabel('Occurrences (normed)')\n",
    "#ax = plt.gca()\n",
    "#ax.set_yscale('symlog', linthreshy=1)\n",
    "#ax.set_xscale('log')\n",
    "sns.despine()\n",
    "plt.legend()\n",
    "plt.show()\n"
   ]
  },
  {
   "cell_type": "code",
   "execution_count": null,
   "metadata": {},
   "outputs": [],
   "source": [
    "NDlist"
   ]
  },
  {
   "cell_type": "code",
   "execution_count": null,
   "metadata": {},
   "outputs": [],
   "source": [
    "## I want to extract the peaks of these data\n",
    "# https://stackoverflow.com/questions/37374983/get-data-points-from-seaborn-distplot\n",
    "\n",
    "i = 5\n",
    "\n",
    "# bw = bandwidth for calculating kde\n",
    "bw = 2\n",
    "# mph = minimum peak height\n",
    "mph = .001\n",
    "# mpd = minimum peak distance\n",
    "mpd = 5\n",
    "\n",
    "plt.figure()\n",
    "output1 = sns.distplot(data[strNDlist[i]],bins=binsequence,kde_kws={'bw':bw, 'label':'KDE'},).get_lines()[0].get_data()\n",
    "\n",
    "## http://nbviewer.jupyter.org/github/demotu/BMC/blob/master/notebooks/DetectPeaks.ipynb\n",
    "\n",
    "\n",
    "\n",
    "ind= detect_peaks(output1[1], valley=False, show=True, mph=mph, mpd=mpd)\n",
    "#print ind\n",
    "\n",
    "figure()\n",
    "plot(output1[0], output1[1])\n",
    "plot(output1[0][ind], output1[1][ind], 'r.')\n",
    "output1[0][ind]"
   ]
  },
  {
   "cell_type": "code",
   "execution_count": null,
   "metadata": {
    "scrolled": false
   },
   "outputs": [],
   "source": [
    "os.chdir(analysisfolder)\n",
    "today = datetime.date.isoformat(datetime.date.today())\n",
    "if not os.path.exists('taken-' + datadate):\n",
    "    os.makedirs('taken-' + datadate)\n",
    "os.chdir('taken-' + datadate)\n",
    "\n",
    "print('today: '+today)\n",
    "print os.getcwd()\n",
    "\n",
    "peaksPL = {NDlist[0]:None}\n",
    "peaksprob = {NDlist[0]:None}\n",
    "\n",
    "plt.figure(figsize=(5,10))\n",
    "title(dataname)\n",
    "for i in range(len(strNDlist)):\n",
    "    print str(i) + ': ' + strNDlist[i]\n",
    "    ax = plt.subplot(len(strNDlist), 1, i+1)\n",
    "    output = sns.distplot(data[strNDlist[i]],\n",
    "                          bins=binsequence, \n",
    "                          label='ND ' + strNDlist[i],\n",
    "                          kde_kws={'bw':bw}).get_lines()[0].get_data()\n",
    "    ind= detect_peaks(output[1], valley=False, show=False, mph=mph, mpd=mpd)\n",
    "    ax.plot(output[0][ind], output[1][ind], 'r.')\n",
    "    peaksPL[NDlist[i]] = output[0][ind]\n",
    "    peaksprob[NDlist[i]] =output[1][ind]\n",
    "    legend()\n",
    "\n",
    "xlabel(PLname);\n",
    "\n",
    "plt.savefig(today + ',' + dataname+',PLvspowerhists.pdf', bbox_inches='tight')\n",
    "plt.savefig(today + ',' + dataname+',PLvspowerhists.png', bbox_inches='tight', dpi=200)"
   ]
  },
  {
   "cell_type": "code",
   "execution_count": null,
   "metadata": {},
   "outputs": [],
   "source": [
    "peaksPL"
   ]
  },
  {
   "cell_type": "code",
   "execution_count": null,
   "metadata": {},
   "outputs": [],
   "source": [
    "peaksprob"
   ]
  },
  {
   "cell_type": "code",
   "execution_count": null,
   "metadata": {},
   "outputs": [],
   "source": [
    "# The bug!\n",
    "plot(newhistdata);"
   ]
  },
  {
   "cell_type": "code",
   "execution_count": null,
   "metadata": {},
   "outputs": [],
   "source": [
    "# Dealt with the bug!\n",
    "plot(newhistdatanormed);"
   ]
  },
  {
   "cell_type": "code",
   "execution_count": null,
   "metadata": {},
   "outputs": [],
   "source": [
    "histdata.head()"
   ]
  },
  {
   "cell_type": "code",
   "execution_count": null,
   "metadata": {},
   "outputs": [],
   "source": [
    "NDlist"
   ]
  },
  {
   "cell_type": "code",
   "execution_count": null,
   "metadata": {},
   "outputs": [],
   "source": [
    "powlist = []\n",
    "for ND in NDlist:\n",
    "    powlist.append(filterwheel.loc[filterwheel['ND']==ND]['Power (W)'].values[0]) \n",
    "\n",
    "powlist"
   ]
  },
  {
   "cell_type": "code",
   "execution_count": null,
   "metadata": {},
   "outputs": [],
   "source": [
    "#filterwheel.set_index('ND')\n",
    "\n",
    "# previously made NDlistwrap manually\n",
    "\"\"\"\n",
    "NDlistwrap = [2.45, 2.35, 2.25, (2.2+2.0)/2, (2.0+1.6)/2, 1.55, 1.45, 1.35, 1.25, (1.2+1.0)/2, 1.0-0.05]\n",
    "\n",
    "NDlistwrap[::-1]\n",
    "\"\"\""
   ]
  },
  {
   "cell_type": "code",
   "execution_count": null,
   "metadata": {
    "collapsed": true
   },
   "outputs": [],
   "source": [
    "# create a listwrap that wraps around the list \n",
    "# This is what I need for pcolormesh.\n",
    "def listwrap(currentlist):\n",
    "    listwrap = [0] * (len(currentlist)+1)\n",
    "    for i in range(len(currentlist)):\n",
    "        try:\n",
    "            listwrap[i+1] = ((currentlist[i]+currentlist[i+1])/2)\n",
    "        except IndexError:\n",
    "            pass\n",
    "    topstep = listwrap[2]-listwrap[1]\n",
    "    listwrap[0]=listwrap[1]-topstep\n",
    "    botstep = listwrap[-2]-listwrap[-3]\n",
    "    listwrap[-1]=listwrap[-2]+botstep\n",
    "    return listwrap"
   ]
  },
  {
   "cell_type": "code",
   "execution_count": null,
   "metadata": {},
   "outputs": [],
   "source": [
    "NDlistwrap = listwrap(NDlist)\n",
    "NDlistwrap[::-1]"
   ]
  },
  {
   "cell_type": "code",
   "execution_count": null,
   "metadata": {},
   "outputs": [],
   "source": [
    "tabledata"
   ]
  },
  {
   "cell_type": "code",
   "execution_count": null,
   "metadata": {},
   "outputs": [],
   "source": [
    "peaksPL"
   ]
  },
  {
   "cell_type": "code",
   "execution_count": null,
   "metadata": {},
   "outputs": [],
   "source": [
    "peaksPL.get(2.4)"
   ]
  },
  {
   "cell_type": "code",
   "execution_count": null,
   "metadata": {},
   "outputs": [],
   "source": [
    "cmap = sns.cubehelix_palette(light=1, as_cmap=True)\n",
    "#cmap = sns.color_palette(\"Grey\", as_cmap=True)\n",
    "\n",
    "plt.figure(figsize=(6,4))\n",
    "plt.pcolormesh(NDlistwrap[::-1], binsequence, transpose(tabledata), cmap=cmap)\n",
    "sns.despine()\n",
    "colorbar()\n",
    "\n",
    "for i in range(len(NDlist)):\n",
    "    plot([NDlist[i]]*len(peaksPL.get(NDlist[i])),peaksPL.get(NDlist[i]), '.', color='grey')\n",
    "\n",
    "ylim(ymin=0)\n",
    "plt.ylabel(PLname)\n",
    "plt.xlabel('ND')"
   ]
  },
  {
   "cell_type": "code",
   "execution_count": null,
   "metadata": {},
   "outputs": [],
   "source": [
    "powlist"
   ]
  },
  {
   "cell_type": "code",
   "execution_count": null,
   "metadata": {},
   "outputs": [],
   "source": [
    "powlistwrap = listwrap(powlist)\n",
    "powlistwrap"
   ]
  },
  {
   "cell_type": "code",
   "execution_count": null,
   "metadata": {},
   "outputs": [],
   "source": [
    "lowerpeaks = np.zeros_like(NDlist)\n",
    "keepgoing = [False] * len(NDlist)\n",
    "for i in range(len(NDlist)):\n",
    "#    print peaksPL.get(NDlist[i]).min()\n",
    "    lowerpeaks[i] = peaksPL.get(NDlist[i]).min()\n",
    "    # set keepgoign to true if there  is still another value\n",
    "lowerpeaks"
   ]
  },
  {
   "cell_type": "code",
   "execution_count": null,
   "metadata": {},
   "outputs": [],
   "source": [
    "#collect the upperpeaks\n",
    "\n",
    "upperpeaks = np.zeros_like(NDlist)\n",
    "for i in range(len(NDlist)):\n",
    "#    print peaksPL.get(NDlist[i]).min()\n",
    "    upperpeaks[i] = peaksPL.get(NDlist[i]).max()\n",
    "    # set keepgoign to true if there  is still another value\n",
    "# *** not quite automated\n",
    "upperpeaks = upperpeaks[:-2]\n",
    "powlistforupperpeaks = powlist[:-2]\n",
    "upperpeaks"
   ]
  },
  {
   "cell_type": "code",
   "execution_count": null,
   "metadata": {},
   "outputs": [],
   "source": [
    "from scipy.optimize import curve_fit\n",
    "import scipy\n",
    "print(scipy.__version__)\n",
    "# need at least version 14.0 of scipy.\n",
    "\n",
    "def expfit(t, A, tau):\n",
    "    return (A * np.exp(t/(-tau)))\n",
    "\n",
    "def powlaw(t, C, m):\n",
    "    return C * t**(-m)\n",
    "\n",
    "# laser power P, saturation power Psat\n",
    "def satcurve(P,Psat,signalmax):\n",
    "    return signalmax/(1 + Psat/P)"
   ]
  },
  {
   "cell_type": "code",
   "execution_count": null,
   "metadata": {},
   "outputs": [],
   "source": [
    "powlist"
   ]
  },
  {
   "cell_type": "code",
   "execution_count": null,
   "metadata": {},
   "outputs": [],
   "source": [
    "x = np.linspace(start = min(powlistwrap), stop = max(powlistwrap),num =100)\n",
    "x_extended = np.linspace(start = min(powlistwrap), stop = 30*max(powlistwrap),num =300)\n",
    "\n",
    "# curvefit\n",
    "lowerpeaksparam, lowerpeakspcov = curve_fit(satcurve, xdata=powlist, ydata=lowerpeaks,p0 = None)\n",
    "lowerpeaksfit = satcurve(x,lowerpeaksparam[0],lowerpeaksparam[1])\n",
    "lowerpeaksfitextended = satcurve(x_extended,lowerpeaksparam[0],lowerpeaksparam[1])\n",
    "\n",
    "print 'Lower peaks saturation at ' + str(lowerpeaksparam[0]) + ' +/- ' + str(np.sqrt(lowerpeakspcov[0,0])) + ' W'\n",
    "\n",
    "# curvefit upperpeaks\n",
    "upperpeaksparam, upperpeakspcov = curve_fit(satcurve, xdata=powlistforupperpeaks, ydata=upperpeaks,p0 = None)\n",
    "upperpeaksfit = satcurve(x,upperpeaksparam[0],upperpeaksparam[1])\n",
    "upperpeaksfitextended = satcurve(x_extended,upperpeaksparam[0],upperpeaksparam[1])\n",
    "\n",
    "print 'Upper peaks saturation at ' + str(upperpeaksparam[0]) + ' +/- ' + str(np.sqrt(upperpeakspcov[0,0])) + ' W'\n",
    "\n",
    "\n",
    "figure(figsize=(6,4))\n",
    "for i in range(len(NDlist)):\n",
    "    plot([powlist[i]]*len(peaksPL.get(NDlist[i])),peaksPL.get(NDlist[i]), '.', color='r') # plot peaks\n",
    "plot(x_extended,lowerpeaksfitextended, '--', color='grey') # plot curvefit out a bit further\n",
    "plot(x,lowerpeaksfit, 'k') # plot curvefit where I actually did the curvefit.\n",
    "plot(x_extended,upperpeaksfitextended, '--', color='grey') # plot curvefit out a bit further\n",
    "plot(x,upperpeaksfit, 'k') # plot curvefit where I actually did the curvefit.\n",
    "xlabel('Laser power (W)')\n",
    "ylabel(PLname)\n",
    "plt.axvline(upperpeaksparam[0], label=\"upper peaks saturation\", color='g', alpha=.2)\n",
    "plt.axvline(lowerpeaksparam[0], label=\"lower peaks saturation\", alpha=.2)\n",
    "plt.axhline(upperpeaksparam[1], color='g', alpha=.2)\n",
    "plt.axhline(lowerpeaksparam[1], alpha=.2)\n",
    "\n",
    "\n",
    "ax = plt.gca()\n",
    "ax.set_xscale('log')\n",
    "ax.set_yscale('log')\n",
    "title(dataname)\n",
    "xlim(1e-5,xmax=1e-2)\n",
    "\n",
    "legend();"
   ]
  },
  {
   "cell_type": "code",
   "execution_count": null,
   "metadata": {},
   "outputs": [],
   "source": [
    "lowerpeaksparam[0] - np.sqrt(lowerpeakspcov[0,0])"
   ]
  },
  {
   "cell_type": "code",
   "execution_count": null,
   "metadata": {},
   "outputs": [],
   "source": [
    "plt.imshow(abs(lowerpeakspcov), cmap=\"gray\", interpolation=\"nearest\", vmin=0)\n",
    "plt.colorbar()\n",
    "plt.title('Covariance matrix, lower peaks fit')\n",
    "plt.show()\n",
    "print(\"It's ok to use the uncertainties as long as there aren't strong off-diagonal values.\")\n",
    "\n",
    "plt.imshow(abs(upperpeakspcov), cmap=\"gray\", interpolation=\"nearest\", vmin=0)\n",
    "plt.colorbar()\n",
    "plt.title('Covariance matrix, upper peaks fit')\n",
    "plt.show()\n",
    "print(\"It's ok to use the uncertainties as long as there aren't strong off-diagonal values.\")"
   ]
  },
  {
   "cell_type": "code",
   "execution_count": null,
   "metadata": {},
   "outputs": [],
   "source": [
    "NDlist"
   ]
  },
  {
   "cell_type": "code",
   "execution_count": null,
   "metadata": {},
   "outputs": [],
   "source": [
    "peaksPL"
   ]
  },
  {
   "cell_type": "code",
   "execution_count": null,
   "metadata": {},
   "outputs": [],
   "source": [
    "os.chdir(analysisfolder)\n",
    "today = datetime.date.isoformat(datetime.date.today())\n",
    "if not os.path.exists('taken-' + datadate):\n",
    "    os.makedirs('taken-' + datadate)\n",
    "os.chdir('taken-' + datadate)\n",
    "\n",
    "print('today: '+today)\n",
    "print os.getcwd()\n",
    "\n",
    "#cmap = sns.cubehelix_palette(n_colors = 1, start=0, rot=1, light=1, as_cmap=True)\n",
    "cmap = sns.cubehelix_palette( light=1, as_cmap=True)\n",
    "#cmap = sns.color_palette(\"Grey\", as_cmap=True)\n",
    "\n",
    "figure(figsize=(8,3))\n",
    "plt.pcolormesh(powlistwrap[::-1],  binsequence, transpose(powertabledata), cmap=cmap)\n",
    "sns.despine()\n",
    "cbar = colorbar(drawedges=False)\n",
    "cbar.set_label('Probability')\n",
    "\n",
    "\n",
    "\n",
    "#ylim(ymin=0)\n",
    "ax = plt.gca()\n",
    "ax.set_xscale('log')\n",
    "ax.set_yscale('log')\n",
    "\n",
    "xticks(powlist, [power*1000*1000 for power in powlist],rotation='vertical')\n",
    "#xticks(powlist, [pow for pow in powlist],rotation='vertical')\n",
    "\n",
    "plt.ylabel(PLname)\n",
    "plt.xlabel('Laser power into objective ($\\mathrm{\\mu}$W)')\n",
    "#plt.xlabel('Laser power into objective (W)')\n",
    "title(dataname)\n",
    "\n",
    "\n",
    "# Cover section that has no data\n",
    "plt.axvline(x=1.3e-4, linewidth=80, color='ghostwhite')\n",
    "\n",
    "# plot curvefits\n",
    "plot(x,lowerpeaksfit, '-', color='lightgrey')\n",
    "plot(x,upperpeaksfit, '-', color='lightgrey') \n",
    "\n",
    "# plot points at the peaks\n",
    "for i in range(len(NDlist)):\n",
    "    plot([powlist[i]]*len(peaksPL.get(NDlist[i])),peaksPL.get(NDlist[i]), '.', color='grey')\n",
    "\n",
    "print('Lower peaks saturation at ' + str(lowerpeaksparam[0]*1000*1000)\n",
    "      + ' ± ' + str(np.sqrt(lowerpeakspcov[0,0])) + ' μW')\n",
    "print('Upper peaks saturation at ' + str(upperpeaksparam[0]*1000*1000)\n",
    "      + ' ± ' + str(np.sqrt(upperpeakspcov[0,0])) + ' μW')\n",
    "\n",
    "#savefig\n",
    "plt.savefig(today + ',' + dataname+',doublesaturationcurve.pdf', bbox_inches='tight')\n",
    "plt.savefig(today + ',' + dataname+',doublesaturationcurve.png', bbox_inches='tight', dpi=200)\n",
    "print(today + ',' + dataname+',doublesaturationcurve')"
   ]
  },
  {
   "cell_type": "code",
   "execution_count": null,
   "metadata": {},
   "outputs": [],
   "source": [
    "## The heatmap isn't as customizable but it's more automated \n",
    "## so it's a good check that I entered in the variables correctly.\n",
    "sns.heatmap(transpose(powertabledata), cmap = cmap)\n",
    "ylabel(PLname)\n",
    "title(dataname)\n",
    "\n",
    "## decrease number of ticks on x axis.\n",
    "ax = plt.gca()\n",
    "#ax.yaxis.set_major_locator(mpl.ticker.MultipleLocator(100))\n",
    "#ax.yaxis.set_major_formatter(mpl.ticker.ScalarFormatter())"
   ]
  },
  {
   "cell_type": "code",
   "execution_count": null,
   "metadata": {},
   "outputs": [],
   "source": [
    "## This cell doesn't have to be run. Just some thoughts about the data system.\n",
    "\n",
    "figure(figsize(5,3))\n",
    "plt.pcolormesh(data)\n",
    "sns.despine()\n",
    "\n",
    "cbar =colorbar()\n",
    "cbar.set_label(PLname)\n",
    "title('pcolormesh example')\n",
    "ylabel('Time (a.u.)')\n",
    "xlabel('dataset')\n",
    "plt.show()\n",
    "\n",
    "figure()\n",
    "sns.heatmap(data, linewidths=0)\n",
    "title('heatmap example')\n",
    "ylabel('Time (a.u.)')\n",
    "xlabel('ND')\n",
    "\n",
    "\n",
    "# https://stackoverflow.com/questions/49020709/seaborn-heatmap-with-numerical-axes\n",
    "# You cannot \"convince\" heatmap not to produce a categorical plot. \n",
    "# Best use another image plot, which uses numerical axes. For example, use a pcolormesh plot. \n",
    "# The assumption is of course that the columns and rows are equally spread. \n",
    "\n",
    "\n",
    "## Some thoughts about figure spacing\n",
    "plt.figure(figsize(6,1))\n",
    "for ND in NDlist:\n",
    "    plt.axvline(x=ND)\n",
    "sns.despine()\n",
    "xlabel('ND')\n",
    "plt.gca().invert_xaxis()\n",
    "    \n",
    "plt.figure()\n",
    "for thispower in powlist:\n",
    "   # print thispower\n",
    "    plt.axvline(x=thispower)\n",
    "#plt.xlim(xmin=min(powlist), xmax = max(powlist))\n",
    "sns.despine()\n",
    "ax = plt.gca()\n",
    "ax.set_xscale('log')\n",
    "xlabel('measured power (W)' )    \n",
    "    \n",
    "plt.figure()\n",
    "for ND in NDlist:\n",
    "    plt.axvline(x=10**-ND)\n",
    "plt.xlim(xmax=10**-min(NDlist))   \n",
    "sns.despine()\n",
    "xlabel('10^-ND')\n",
    "\n",
    "plt.figure()\n",
    "for thispower in powlist:\n",
    "  #  print thispower\n",
    "    plt.axvline(x=thispower)\n",
    "plt.xlim(xmin=min(powlist), xmax = max(powlist))\n",
    "sns.despine()\n",
    "xlabel('measured power (W)' )\n",
    "\n",
    "\n",
    "\n",
    "\n",
    "plt.show()"
   ]
  },
  {
   "cell_type": "code",
   "execution_count": null,
   "metadata": {
    "collapsed": true
   },
   "outputs": [],
   "source": []
  }
 ],
 "metadata": {
  "kernelspec": {
   "display_name": "Python 2",
   "language": "python",
   "name": "python2"
  },
  "language_info": {
   "codemirror_mode": {
    "name": "ipython",
    "version": 2
   },
   "file_extension": ".py",
   "mimetype": "text/x-python",
   "name": "python",
   "nbconvert_exporter": "python",
   "pygments_lexer": "ipython2",
   "version": "2.7.14"
  }
 },
 "nbformat": 4,
 "nbformat_minor": 2
}
