{
 "cells": [
  {
   "cell_type": "code",
   "execution_count": 1,
   "metadata": {},
   "outputs": [
    {
     "name": "stdout",
     "output_type": "stream",
     "text": [
      "Parameters([('amp', <Parameter 'amp', 5, bounds=[-inf:inf]>), ('cen', <Parameter 'cen', 2, bounds=[-inf:2]>), ('wid', <Parameter 'wid', 2, bounds=[-inf:inf]>)])\n",
      "[[Model]]\n",
      "    Model(gaussian)\n",
      "[[Fit Statistics]]\n",
      "    # fitting method   = leastsq\n",
      "    # function evals   = 22\n",
      "    # data points      = 7\n",
      "    # variables        = 3\n",
      "    chi-square         = 10.8540645\n",
      "    reduced chi-square = 2.71351612\n",
      "    Akaike info crit   = 9.07040627\n",
      "    Bayesian info crit = 8.90813672\n",
      "[[Variables]]\n",
      "    amp:  9.60498863 (init = 5)\n",
      "    cen:  2.00000000 (init = 2)\n",
      "    wid:  0.76446686 (init = 2)\n",
      "\n"
     ]
    },
    {
     "data": {
      "image/png": "[encoded data removed]",
      "text/plain": [
       "<matplotlib.figure.Figure at 0xc5e6cf8>"
      ]
     },
     "metadata": {},
     "output_type": "display_data"
    },
    {
     "name": "stdout",
     "output_type": "stream",
     "text": [
      "(['amp', 'cen', 'wid'], ['x'])\n"
     ]
    }
   ],
   "source": [
    "import matplotlib.pyplot as plt\n",
    "from numpy import exp, loadtxt, pi, sqrt\n",
    "\n",
    "from lmfit import Model\n",
    "import lmfit\n",
    "\n",
    "\n",
    "\n",
    "def gaussian(x, amp, cen, wid):\n",
    "    \"\"\"1-d gaussian: gaussian(x, amp, cen, wid)\"\"\"\n",
    "    return (amp / (sqrt(2*pi) * wid)) * exp(-(x-cen)**2 / (2*wid**2))\n",
    "\n",
    "\n",
    "gmodel = Model(gaussian)\n",
    "\n",
    "#data = loadtxt('model1d_gauss.dat')\n",
    "x = [0,1,2,3,4,5, 8]\n",
    "y = [.1, .3, 5, 4, .1,.01, 2]\n",
    "\n",
    "gpars = lmfit.Parameters()\n",
    "gpars.add('amp', value=5, vary=True)\n",
    "gpars.add('cen', value=5, max=2, vary=True)\n",
    "gpars.add('wid', value=2, vary=True)\n",
    "print(gpars)\n",
    "\n",
    "result = gmodel.fit(data=y, x=x, params=gpars)\n",
    "\n",
    "print(result.fit_report())\n",
    "\n",
    "plt.plot(x, y, 'bo')\n",
    "assert len(result.init_fit) ==len(x)\n",
    "plt.plot(x, result.init_fit, 'k--')\n",
    "plt.plot(x, result.best_fit, 'r-')\n",
    "plt.show()\n",
    "# <end examples/doc_model_gaussian.py>\n",
    "\n",
    "print(gmodel.param_names, gmodel.independent_vars)"
   ]
  },
  {
   "cell_type": "code",
   "execution_count": 2,
   "metadata": {},
   "outputs": [
    {
     "name": "stdout",
     "output_type": "stream",
     "text": [
      "lhand = 0.903442361044390\n",
      "rhand = 0.903169738393685\n",
      "trap = 0.903306049719037\n",
      "exact = 0.903306088307605\n"
     ]
    },
    {
     "data": {
      "image/png": "[encoded data removed]",
      "text/plain": [
       "<matplotlib.figure.Figure at 0xc71e160>"
      ]
     },
     "metadata": {},
     "output_type": "display_data"
    }
   ],
   "source": [
    "#!/usr/bin/env python\n",
    "# plot the integrand and approximate\n",
    "# the integral\n",
    "#    / 1\n",
    "#    |    exp(-xˆ2/pi) dx\n",
    "#    / 0\n",
    "# by left-hand, right-hand, and\n",
    "# trapezoid rules\n",
    "from pylab import plot,axis,linspace,sum, \\\n",
    "pi,sqrt,exp,show,grid\n",
    "from scipy.special import erf\n",
    "N = 1000\n",
    "dx = (1.0 - 0.0) / N\n",
    "x = linspace(0.0,1.0,N+1)\n",
    "y = exp(- x**2 / pi)\n",
    "plot(x,y)\n",
    "axis([0.0,1.0,0.0,1.0])\n",
    "lhand = dx*sum(y[:-1])\n",
    "print \"lhand = %.15f\" % lhand\n",
    "rhand = dx*sum(y[1:])\n",
    "print \"rhand = %.15f\" % rhand\n",
    "trap  = (dx/2)*sum(y[:-1]+y[1:])\n",
    "print \"trap = %.15f\" % trap\n",
    "exact = (pi/2)*erf(1/sqrt(pi))\n",
    "print \"exact = %.15f\" % exact\n",
    "show()  # allow user to close figure"
   ]
  },
  {
   "cell_type": "code",
   "execution_count": 5,
   "metadata": {},
   "outputs": [
    {
     "name": "stdout",
     "output_type": "stream",
     "text": [
      "[[Model]]\n",
      "    Model(numericexpint)\n",
      "[[Fit Statistics]]\n",
      "    # fitting method   = leastsq\n",
      "    # function evals   = 9\n",
      "    # data points      = 9\n",
      "    # variables        = 1\n",
      "    chi-square         = 0.00000000\n",
      "    reduced chi-square = 0.00000000\n",
      "    Akaike info crit   = -inf\n",
      "    Bayesian info crit = -inf\n",
      "[[Variables]]\n",
      "    m:  1.10000000 +/- 0.00000000 (0.00%) (init = 1)\n",
      "\n"
     ]
    },
    {
     "data": {
      "image/png": "[encoded data removed]",
      "text/plain": [
       "<matplotlib.figure.Figure at 0xe2d0c18>"
      ]
     },
     "metadata": {},
     "output_type": "display_data"
    }
   ],
   "source": [
    "if True:\n",
    "    import numpy as np\n",
    "    import sympy\n",
    "    import lmfit\n",
    "\n",
    "    def numericexpint(t, m):\n",
    "        values = [sympy.N(sympy.expint(i,m)) for i in t]\n",
    "        return np.array(values, dtype='float')\n",
    "\n",
    "    x = range(1, 10)\n",
    "    y = numericexpint(x, 1.1)\n",
    "\n",
    "    mymodel = lmfit.Model(numericexpint)\n",
    "\n",
    "    result = mymodel.fit(y, t=x, m=1)\n",
    "    print(result.fit_report())\n",
    "\n",
    "plt.plot(x, y, 'bo')\n",
    "assert len(result.init_fit) ==len(x)\n",
    "plt.plot(x, result.init_fit, 'k--')\n",
    "plt.plot(x, result.best_fit, 'r-')\n",
    "plt.show()"
   ]
  },
  {
   "cell_type": "code",
   "execution_count": 19,
   "metadata": {},
   "outputs": [
    {
     "name": "stdout",
     "output_type": "stream",
     "text": [
      "0.795379490846703\n",
      "1.21306131943\n"
     ]
    },
    {
     "name": "stderr",
     "output_type": "stream",
     "text": [
      "C:\\ProgramData\\Anaconda2\\lib\\site-packages\\ipykernel_launcher.py:4: RuntimeWarning: floating point number truncated to an integer\n",
      "  after removing the cwd from sys.path.\n"
     ]
    }
   ],
   "source": [
    "import sympy\n",
    "import scipy\n",
    "print(sympy.N(sympy.expint(.5,.5)))\n",
    "print(scipy.special.expn(.5,.5))"
   ]
  },
  {
   "cell_type": "code",
   "execution_count": null,
   "metadata": {
    "collapsed": true
   },
   "outputs": [],
   "source": []
  }
 ],
 "metadata": {
  "kernelspec": {
   "display_name": "Python 2",
   "language": "python",
   "name": "python2"
  },
  "language_info": {
   "codemirror_mode": {
    "name": "ipython",
    "version": 2
   },
   "file_extension": ".py",
   "mimetype": "text/x-python",
   "name": "python",
   "nbconvert_exporter": "python",
   "pygments_lexer": "ipython2",
   "version": "2.7.14"
  }
 },
 "nbformat": 4,
 "nbformat_minor": 2
}
